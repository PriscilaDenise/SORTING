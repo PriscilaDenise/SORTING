{
 "cells": [
  {
   "cell_type": "code",
   "execution_count": 2,
   "metadata": {},
   "outputs": [
    {
     "name": "stdout",
     "output_type": "stream",
     "text": [
      "[4, 12, 21, 23, 34, 34, 76, 89, 98]\n",
      "Time taken is: 0.0\n"
     ]
    }
   ],
   "source": [
    "\"\"\"MERGE SORT\"\"\"\n",
    "import time\n",
    "start_time = time.time()\n",
    "def merge_sort(arr):\n",
    "    if len(arr) > 1:\n",
    "        mid = len(arr) // 2\n",
    "        left_half = arr[:mid]\n",
    "        right_half = arr[mid:]\n",
    "\n",
    "        merge_sort(left_half)\n",
    "        merge_sort(right_half)\n",
    "\n",
    "        i = j = k = 0\n",
    "\n",
    "        while i < len(left_half) and j < len(right_half):\n",
    "            if left_half[i] < right_half[j]:\n",
    "                arr[k] = left_half[i]\n",
    "                i += 1\n",
    "            else:\n",
    "                arr[k] = right_half[j]\n",
    "                j += 1\n",
    "            k += 1\n",
    "\n",
    "        while i < len(left_half):\n",
    "            arr[k] = left_half[i]\n",
    "            i += 1\n",
    "            k += 1\n",
    "\n",
    "        while j < len(right_half):\n",
    "            arr[k] = right_half[j]\n",
    "            j += 1\n",
    "            k += 1\n",
    "\n",
    "    return arr\n",
    "array = [34, 21, 34, 89, 12, 4, 23, 98, 76]\n",
    "end_time = time.time()\n",
    "\n",
    "print(merge_sort(array))\n",
    "range = end_time - start_time \n",
    "print(f'Time taken is: {range}')\n"
   ]
  },
  {
   "cell_type": "code",
   "execution_count": 3,
   "metadata": {},
   "outputs": [
    {
     "ename": "TypeError",
     "evalue": "'float' object is not callable",
     "output_type": "error",
     "traceback": [
      "\u001b[1;31m---------------------------------------------------------------------------\u001b[0m",
      "\u001b[1;31mTypeError\u001b[0m                                 Traceback (most recent call last)",
      "\u001b[1;32md:\\SCHOOL WORK\\all_sorting_methods.ipynb Cell 3\u001b[0m line \u001b[0;36m1\n\u001b[0;32m     <a href='vscode-notebook-cell:/d%3A/SCHOOL%20WORK/all_sorting_methods.ipynb#W2sZmlsZQ%3D%3D?line=12'>13</a>\u001b[0m arr \u001b[39m=\u001b[39m [\u001b[39m64\u001b[39m, \u001b[39m25\u001b[39m, \u001b[39m12\u001b[39m, \u001b[39m22\u001b[39m, \u001b[39m11\u001b[39m]\n\u001b[0;32m     <a href='vscode-notebook-cell:/d%3A/SCHOOL%20WORK/all_sorting_methods.ipynb#W2sZmlsZQ%3D%3D?line=13'>14</a>\u001b[0m size \u001b[39m=\u001b[39m \u001b[39mlen\u001b[39m(arr)\n\u001b[1;32m---> <a href='vscode-notebook-cell:/d%3A/SCHOOL%20WORK/all_sorting_methods.ipynb#W2sZmlsZQ%3D%3D?line=14'>15</a>\u001b[0m selectionSort(arr, size)\n\u001b[0;32m     <a href='vscode-notebook-cell:/d%3A/SCHOOL%20WORK/all_sorting_methods.ipynb#W2sZmlsZQ%3D%3D?line=15'>16</a>\u001b[0m \u001b[39mprint\u001b[39m(\u001b[39m\"\u001b[39m\u001b[39mSorted array is:\u001b[39m\u001b[39m\"\u001b[39m)\n\u001b[0;32m     <a href='vscode-notebook-cell:/d%3A/SCHOOL%20WORK/all_sorting_methods.ipynb#W2sZmlsZQ%3D%3D?line=16'>17</a>\u001b[0m \u001b[39mfor\u001b[39;00m i \u001b[39min\u001b[39;00m \u001b[39mrange\u001b[39m(size):\n",
      "\u001b[1;32md:\\SCHOOL WORK\\all_sorting_methods.ipynb Cell 3\u001b[0m line \u001b[0;36m5\n\u001b[0;32m      <a href='vscode-notebook-cell:/d%3A/SCHOOL%20WORK/all_sorting_methods.ipynb#W2sZmlsZQ%3D%3D?line=3'>4</a>\u001b[0m \u001b[39mdef\u001b[39;00m \u001b[39mselectionSort\u001b[39m(array, size):\n\u001b[1;32m----> <a href='vscode-notebook-cell:/d%3A/SCHOOL%20WORK/all_sorting_methods.ipynb#W2sZmlsZQ%3D%3D?line=4'>5</a>\u001b[0m     \u001b[39mfor\u001b[39;00m ind \u001b[39min\u001b[39;00m \u001b[39mrange\u001b[39;49m(size):\n\u001b[0;32m      <a href='vscode-notebook-cell:/d%3A/SCHOOL%20WORK/all_sorting_methods.ipynb#W2sZmlsZQ%3D%3D?line=5'>6</a>\u001b[0m         min_index \u001b[39m=\u001b[39m ind\n\u001b[0;32m      <a href='vscode-notebook-cell:/d%3A/SCHOOL%20WORK/all_sorting_methods.ipynb#W2sZmlsZQ%3D%3D?line=6'>7</a>\u001b[0m         \u001b[39mfor\u001b[39;00m j \u001b[39min\u001b[39;00m \u001b[39mrange\u001b[39m(ind \u001b[39m+\u001b[39m \u001b[39m1\u001b[39m, size):\n",
      "\u001b[1;31mTypeError\u001b[0m: 'float' object is not callable"
     ]
    }
   ],
   "source": [
    "\"\"\"SELECTION SORT\"\"\"\n",
    "import time\n",
    "start_time = time.time()\n",
    "def selectionSort(array, size):\n",
    "    for ind in range(size):\n",
    "        min_index = ind\n",
    "        for j in range(ind + 1, size):\n",
    "            if array[j] < array[min_index]:\n",
    "                min_index = j\n",
    "\n",
    "        array[ind], array[min_index] = array[min_index], array[ind]\n",
    "\n",
    "arr = [64, 25, 12, 22, 11]\n",
    "size = len(arr)\n",
    "selectionSort(arr, size)\n",
    "print(\"Sorted array is:\")\n",
    "for i in range(size):\n",
    "    print(\"%d\" % arr[i])\n",
    "\n",
    "range = end_time - start_time \n",
    "print(f'Time taken is: {range}')"
   ]
  },
  {
   "cell_type": "code",
   "execution_count": null,
   "metadata": {},
   "outputs": [
    {
     "name": "stdout",
     "output_type": "stream",
     "text": [
      "Sorted array is:\n",
      "11\n",
      "12\n",
      "22\n",
      "25\n",
      "64\n"
     ]
    }
   ],
   "source": [
    "\"\"\"INSERTION SORT\"\"\"\n",
    "import time\n",
    "start_time = time.time()\n",
    "def insertionSort(arr):\n",
    "    for i in range(1, len(arr)):\n",
    "        key = arr[i]\n",
    "        j = i - 1\n",
    "        while j >= 0 and key < arr[j]:\n",
    "            arr[j + 1] = arr[j]\n",
    "            j -= 1\n",
    "        arr[j + 1] = key\n",
    "\n",
    "arr = [64, 25, 12, 22, 11]\n",
    "insertionSort(arr)\n",
    "print(\"Sorted array is:\")\n",
    "for i in range(len(arr)):\n",
    "    print(\"%d\" % arr[i])\n",
    "range = end_time - start_time \n",
    "print(f'Time taken is: {range}')\n"
   ]
  },
  {
   "cell_type": "code",
   "execution_count": null,
   "metadata": {},
   "outputs": [
    {
     "name": "stdout",
     "output_type": "stream",
     "text": [
      "Sorted array is:\n",
      "11\n",
      "12\n",
      "22\n",
      "25\n",
      "64\n"
     ]
    }
   ],
   "source": [
    "\"\"\"QUICK SORT\"\"\"\n",
    "import time\n",
    "start_time = time.time()\n",
    "def partition(array, low, high):\n",
    "    pivot = array[high]\n",
    "    i = low - 1\n",
    "    for j in range(low, high):\n",
    "        if array[j] <= pivot:\n",
    "            i += 1\n",
    "            array[i], array[j] = array[j], array[i]\n",
    "    array[i + 1], array[high] = array[high], array[i + 1]\n",
    "    return i + 1\n",
    "\n",
    "def quickSort(array, low, high):\n",
    "    if low < high:\n",
    "        pi = partition(array, low, high)\n",
    "        quickSort(array, low, pi - 1)\n",
    "        quickSort(array, pi + 1, high)\n",
    "\n",
    "arr = [64, 25, 12, 22, 11]\n",
    "size = len(arr)\n",
    "quickSort(arr, 0, size - 1)\n",
    "print(\"Sorted array is:\")\n",
    "for i in range(size):\n",
    "    print(\"%d\" % arr[i])\n",
    "\n",
    "range = end_time - start_time \n",
    "print(f'Time taken is: {range}')\n"
   ]
  },
  {
   "cell_type": "markdown",
   "metadata": {},
   "source": [
    "OBSERVATIONS:\n",
    "from the above sorts that we use in python, the most efficient sorting to use because;\n",
    " It is a simple sorting algorithm that repeatedly compares adjacent elements and swaps them if they are in the wrong order. It has a time complexity of O(n^2)\n",
    " It also uses two itelations only, that is two for loops"
   ]
  }
 ],
 "metadata": {
  "kernelspec": {
   "display_name": "venv",
   "language": "python",
   "name": "python3"
  },
  "language_info": {
   "codemirror_mode": {
    "name": "ipython",
    "version": 3
   },
   "file_extension": ".py",
   "mimetype": "text/x-python",
   "name": "python",
   "nbconvert_exporter": "python",
   "pygments_lexer": "ipython3",
   "version": "3.11.3"
  }
 },
 "nbformat": 4,
 "nbformat_minor": 2
}
